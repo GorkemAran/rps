{
  "nbformat": 4,
  "nbformat_minor": 0,
  "metadata": {
    "colab": {
      "provenance": [],
      "authorship_tag": "ABX9TyMq3ggdDt6V39f4+0b4cz/h",
      "include_colab_link": true
    },
    "kernelspec": {
      "name": "python3",
      "display_name": "Python 3"
    },
    "language_info": {
      "name": "python"
    }
  },
  "cells": [
    {
      "cell_type": "markdown",
      "metadata": {
        "id": "view-in-github",
        "colab_type": "text"
      },
      "source": [
        "<a href=\"https://colab.research.google.com/github/GorkemAran/rps/blob/main/RockPaperScissors.ipynb\" target=\"_parent\"><img src=\"https://colab.research.google.com/assets/colab-badge.svg\" alt=\"Open In Colab\"/></a>"
      ]
    },
    {
      "cell_type": "code",
      "execution_count": 3,
      "metadata": {
        "colab": {
          "base_uri": "https://localhost:8080/",
          "height": 940
        },
        "id": "PEMhyFCJiv8l",
        "outputId": "2e14be53-b2a4-440a-c5e6-be0b88846f4c"
      },
      "outputs": [
        {
          "name": "stdout",
          "output_type": "stream",
          "text": [
            "Hello !\n",
            "Welcome to the game that called Rock Paper Scissors. You know the rules but i want to recall for you.\n",
            "\n",
            "Rock beats Scissors\n",
            "Scissors beats Paper\n",
            "Paper beats Rock\n",
            "\n",
            "New Round!\n",
            "Enter rock, paper, or scissors (or type 'exit' to quit): rock\n",
            "Computer chose: rock\n",
            "This round is a tie. Score - You: 0, Computer: 0\n",
            "\n",
            "New Round!\n",
            "Enter rock, paper, or scissors (or type 'exit' to quit): rokc\n",
            "Invalid choice. Please choose rock, paper, or scissors.\n",
            "\n",
            "New Round!\n",
            "Enter rock, paper, or scissors (or type 'exit' to quit): ock\n",
            "Invalid choice. Please choose rock, paper, or scissors.\n",
            "\n",
            "New Round!\n",
            "Enter rock, paper, or scissors (or type 'exit' to quit): rock\n",
            "Computer chose: rock\n",
            "This round is a tie. Score - You: 0, Computer: 0\n",
            "\n",
            "New Round!\n",
            "Enter rock, paper, or scissors (or type 'exit' to quit): rock\n",
            "Computer chose: scissors\n",
            "How lucky you are. You won this round! Score - You: 1, Computer: 0\n",
            "\n",
            "New Round!\n",
            "Enter rock, paper, or scissors (or type 'exit' to quit): rock\n",
            "Computer chose: scissors\n",
            "How lucky you are. You won this round! Score - You: 2, Computer: 0\n",
            "\n",
            "Congratulations! You won the game!\n",
            "Do you want to play again? (yes/no): yes\n"
          ]
        },
        {
          "output_type": "error",
          "ename": "UnboundLocalError",
          "evalue": "local variable 'againComp' referenced before assignment",
          "traceback": [
            "\u001b[0;31m---------------------------------------------------------------------------\u001b[0m",
            "\u001b[0;31mUnboundLocalError\u001b[0m                         Traceback (most recent call last)",
            "\u001b[0;32m<ipython-input-3-ce8331d3a8d0>\u001b[0m in \u001b[0;36m<cell line: 72>\u001b[0;34m()\u001b[0m\n\u001b[1;32m     73\u001b[0m   \u001b[0mwelcome\u001b[0m \u001b[0;34m=\u001b[0m \u001b[0;34m\"Hello !\\nWelcome to the game that called Rock Paper Scissors. You know the rules but i want to recall for you.\\n\\nRock beats Scissors\\nScissors beats Paper\\nPaper beats Rock\"\u001b[0m\u001b[0;34m\u001b[0m\u001b[0;34m\u001b[0m\u001b[0m\n\u001b[1;32m     74\u001b[0m   \u001b[0mprint\u001b[0m\u001b[0;34m(\u001b[0m\u001b[0mwelcome\u001b[0m\u001b[0;34m)\u001b[0m\u001b[0;34m\u001b[0m\u001b[0;34m\u001b[0m\u001b[0m\n\u001b[0;32m---> 75\u001b[0;31m   \u001b[0mtas_kagit_makas_Gorkem_Aran\u001b[0m\u001b[0;34m(\u001b[0m\u001b[0;34m)\u001b[0m\u001b[0;34m\u001b[0m\u001b[0;34m\u001b[0m\u001b[0m\n\u001b[0m",
            "\u001b[0;32m<ipython-input-3-ce8331d3a8d0>\u001b[0m in \u001b[0;36mtas_kagit_makas_Gorkem_Aran\u001b[0;34m()\u001b[0m\n\u001b[1;32m     62\u001b[0m \u001b[0;34m\u001b[0m\u001b[0m\n\u001b[1;32m     63\u001b[0m         \u001b[0mplay_again\u001b[0m \u001b[0;34m=\u001b[0m \u001b[0minput\u001b[0m\u001b[0;34m(\u001b[0m\u001b[0;34m\"Do you want to play again? (yes/no): \"\u001b[0m\u001b[0;34m)\u001b[0m\u001b[0;34m.\u001b[0m\u001b[0mlower\u001b[0m\u001b[0;34m(\u001b[0m\u001b[0;34m)\u001b[0m\u001b[0;34m\u001b[0m\u001b[0;34m\u001b[0m\u001b[0m\n\u001b[0;32m---> 64\u001b[0;31m         \u001b[0magainComp\u001b[0m \u001b[0;34m=\u001b[0m \u001b[0magainComp\u001b[0m\u001b[0;34m(\u001b[0m\u001b[0;34m)\u001b[0m\u001b[0;34m\u001b[0m\u001b[0;34m\u001b[0m\u001b[0m\n\u001b[0m\u001b[1;32m     65\u001b[0m         \u001b[0mprint\u001b[0m\u001b[0;34m(\u001b[0m\u001b[0magainComp\u001b[0m\u001b[0;34m)\u001b[0m\u001b[0;34m\u001b[0m\u001b[0;34m\u001b[0m\u001b[0m\n\u001b[1;32m     66\u001b[0m         \u001b[0mprint\u001b[0m\u001b[0;34m(\u001b[0m\u001b[0;34m\"Computer's choice : \"\u001b[0m\u001b[0;34m,\u001b[0m\u001b[0magainComp\u001b[0m\u001b[0;34m)\u001b[0m\u001b[0;34m\u001b[0m\u001b[0;34m\u001b[0m\u001b[0m\n",
            "\u001b[0;31mUnboundLocalError\u001b[0m: local variable 'againComp' referenced before assignment"
          ]
        }
      ],
      "source": [
        "import random\n",
        "\n",
        "def computerChoice():\n",
        "    choices = ['rock', 'paper', 'scissors']\n",
        "    return random.choice(choices)\n",
        "\n",
        "def determine_winner(userChoice, computerChoice):\n",
        "    if userChoice == computerChoice:\n",
        "        return \"tie\"\n",
        "    elif (userChoice == 'rock' and computerChoice == 'scissors') or \\\n",
        "         (userChoice == 'paper' and computerChoice == 'rock') or \\\n",
        "         (userChoice == 'scissors' and computerChoice == 'paper'):\n",
        "        return \"win\"\n",
        "    else:\n",
        "        return \"lose\"\n",
        "\n",
        "def play_round():\n",
        "    user_choice = input(\"Enter rock, paper, or scissors (or type 'exit' to quit): \").lower()\n",
        "    if user_choice == 'exit':\n",
        "        return 'exit', None\n",
        "    if user_choice not in ['rock', 'paper', 'scissors']:\n",
        "        print(\"Invalid choice. Please choose rock, paper, or scissors.\")\n",
        "        return None, None\n",
        "\n",
        "    computer_choice = computerChoice()\n",
        "    print(f\"Computer chose: {computer_choice}\")\n",
        "\n",
        "    result = determine_winner(user_choice, computer_choice)\n",
        "    return result, computer_choice\n",
        "\n",
        "def againComp():\n",
        "  choices = ['yes','no']\n",
        "  return random.choice(choices)\n",
        "\n",
        "def tas_kagit_makas_Gorkem_Aran():\n",
        "    while True:\n",
        "        user_score = 0\n",
        "        computer_score = 0\n",
        "\n",
        "        while user_score < 2 and computer_score < 2:\n",
        "            print(\"\\nNew Round!\")\n",
        "            result, computer_choice = play_round()\n",
        "            if result == 'exit':\n",
        "                print(\"Where are you going coward ?\")\n",
        "                return\n",
        "            if result is None:\n",
        "                continue\n",
        "\n",
        "            if result == \"win\":\n",
        "                user_score += 1\n",
        "                print(f\"How lucky you are. You won this round! Score - You: {user_score}, Computer: {computer_score}\")\n",
        "            elif result == \"lose\":\n",
        "                computer_score += 1\n",
        "                print(f\"You lost this round. Score - You: {user_score}, Computer: {computer_score}\")\n",
        "            else:\n",
        "                print(f\"This round is a tie. Score - You: {user_score}, Computer: {computer_score}\")\n",
        "\n",
        "        if user_score == 2:\n",
        "            print(\"\\nCongratulations! You won the game!\")\n",
        "        else:\n",
        "            print(\"\\nSorry, I won the game! as I said I always win hahaha\")\n",
        "\n",
        "        play_again = input(\"Do you want to play again? (yes/no): \").lower()\n",
        "        againComp = againComp()\n",
        "        print(\"Computer's choice : \",againComp)\n",
        "        if play_again != 'yes' or againComp!='yes':\n",
        "            print(\"Thank you for playing!\")\n",
        "            break\n",
        "\n",
        "# Start the game\n",
        "if __name__ == \"__main__\":\n",
        "  welcome = \"Hello !\\nWelcome to the game that called Rock Paper Scissors. You know the rules but i want to recall for you.\\n\\nRock beats Scissors\\nScissors beats Paper\\nPaper beats Rock\"\n",
        "  print(welcome)\n",
        "  tas_kagit_makas_Gorkem_Aran()\n"
      ]
    }
  ]
}